{
 "cells": [
  {
   "cell_type": "code",
   "execution_count": null,
   "id": "7c5e2513",
   "metadata": {},
   "outputs": [],
   "source": [
    "from google.colab import files"
   ]
  },
  {
   "cell_type": "code",
   "execution_count": 2,
   "id": "d30928a0",
   "metadata": {},
   "outputs": [],
   "source": [
    "import pandas as pd"
   ]
  },
  {
   "cell_type": "code",
   "execution_count": 3,
   "id": "990e2aa1",
   "metadata": {},
   "outputs": [],
   "source": [
    "df = pd.read_csv('my_dataframe2.csv')"
   ]
  },
  {
   "cell_type": "code",
   "execution_count": 4,
   "id": "756a63cd",
   "metadata": {},
   "outputs": [
    {
     "data": {
      "text/html": [
       "<div>\n",
       "<style scoped>\n",
       "    .dataframe tbody tr th:only-of-type {\n",
       "        vertical-align: middle;\n",
       "    }\n",
       "\n",
       "    .dataframe tbody tr th {\n",
       "        vertical-align: top;\n",
       "    }\n",
       "\n",
       "    .dataframe thead th {\n",
       "        text-align: right;\n",
       "    }\n",
       "</style>\n",
       "<table border=\"1\" class=\"dataframe\">\n",
       "  <thead>\n",
       "    <tr style=\"text-align: right;\">\n",
       "      <th></th>\n",
       "      <th>Unnamed: 0.1</th>\n",
       "      <th>Unnamed: 0</th>\n",
       "      <th>Job Title</th>\n",
       "      <th>Salary Estimate</th>\n",
       "      <th>Rating</th>\n",
       "      <th>Company Name</th>\n",
       "      <th>Location</th>\n",
       "      <th>Size</th>\n",
       "      <th>Founded</th>\n",
       "      <th>Type of ownership</th>\n",
       "      <th>Industry</th>\n",
       "      <th>Sector</th>\n",
       "      <th>Revenue</th>\n",
       "      <th>Min_salary</th>\n",
       "      <th>Max_salary</th>\n",
       "      <th>Average_salary</th>\n",
       "      <th>State</th>\n",
       "    </tr>\n",
       "  </thead>\n",
       "  <tbody>\n",
       "    <tr>\n",
       "      <th>0</th>\n",
       "      <td>0</td>\n",
       "      <td>0</td>\n",
       "      <td>Senior Data Scientist</td>\n",
       "      <td>['111', '-', '181', '(Glassdoor', 'est.)']</td>\n",
       "      <td>3.5</td>\n",
       "      <td>Hopper\\n3.5</td>\n",
       "      <td>New York, NY</td>\n",
       "      <td>501 to 1000 employees</td>\n",
       "      <td>2007</td>\n",
       "      <td>Company - Private</td>\n",
       "      <td>Travel Agencies</td>\n",
       "      <td>Travel &amp; Tourism</td>\n",
       "      <td>Unknown / Non-Applicable</td>\n",
       "      <td>111</td>\n",
       "      <td>181</td>\n",
       "      <td>146.0</td>\n",
       "      <td>NY</td>\n",
       "    </tr>\n",
       "    <tr>\n",
       "      <th>1</th>\n",
       "      <td>1</td>\n",
       "      <td>1</td>\n",
       "      <td>Data Scientist, Product Analytics</td>\n",
       "      <td>['111', '-', '181', '(Glassdoor', 'est.)']</td>\n",
       "      <td>4.5</td>\n",
       "      <td>Noom US\\n4.5</td>\n",
       "      <td>New York, NY</td>\n",
       "      <td>1001 to 5000 employees</td>\n",
       "      <td>2008</td>\n",
       "      <td>Company - Private</td>\n",
       "      <td>Health, Beauty, &amp; Fitness</td>\n",
       "      <td>Consumer Services</td>\n",
       "      <td>Unknown / Non-Applicable</td>\n",
       "      <td>111</td>\n",
       "      <td>181</td>\n",
       "      <td>146.0</td>\n",
       "      <td>NY</td>\n",
       "    </tr>\n",
       "    <tr>\n",
       "      <th>2</th>\n",
       "      <td>3</td>\n",
       "      <td>3</td>\n",
       "      <td>Data Analyst</td>\n",
       "      <td>['111', '-', '181', '(Glassdoor', 'est.)']</td>\n",
       "      <td>3.4</td>\n",
       "      <td>Sapphire Digital\\n3.4</td>\n",
       "      <td>Lyndhurst, NJ</td>\n",
       "      <td>201 to 500 employees</td>\n",
       "      <td>2019</td>\n",
       "      <td>Company - Private</td>\n",
       "      <td>Internet</td>\n",
       "      <td>Information Technology</td>\n",
       "      <td>Unknown / Non-Applicable</td>\n",
       "      <td>111</td>\n",
       "      <td>181</td>\n",
       "      <td>146.0</td>\n",
       "      <td>NJ</td>\n",
       "    </tr>\n",
       "    <tr>\n",
       "      <th>3</th>\n",
       "      <td>4</td>\n",
       "      <td>4</td>\n",
       "      <td>Director, Data Science</td>\n",
       "      <td>['111', '-', '181', '(Glassdoor', 'est.)']</td>\n",
       "      <td>3.4</td>\n",
       "      <td>United Entertainment Group\\n3.4</td>\n",
       "      <td>New York, NY</td>\n",
       "      <td>51 to 200 employees</td>\n",
       "      <td>2007</td>\n",
       "      <td>Company - Private</td>\n",
       "      <td>Advertising &amp; Marketing</td>\n",
       "      <td>Business Services</td>\n",
       "      <td>Unknown / Non-Applicable</td>\n",
       "      <td>111</td>\n",
       "      <td>181</td>\n",
       "      <td>146.0</td>\n",
       "      <td>NY</td>\n",
       "    </tr>\n",
       "    <tr>\n",
       "      <th>4</th>\n",
       "      <td>5</td>\n",
       "      <td>5</td>\n",
       "      <td>Data Scientist</td>\n",
       "      <td>['111', '-', '181', '(Glassdoor', 'est.)']</td>\n",
       "      <td>2.9</td>\n",
       "      <td>IFG Companies\\n2.9</td>\n",
       "      <td>New York, NY</td>\n",
       "      <td>201 to 500 employees</td>\n",
       "      <td>1985</td>\n",
       "      <td>Company - Private</td>\n",
       "      <td>Insurance Carriers</td>\n",
       "      <td>Insurance</td>\n",
       "      <td>Unknown / Non-Applicable</td>\n",
       "      <td>111</td>\n",
       "      <td>181</td>\n",
       "      <td>146.0</td>\n",
       "      <td>NY</td>\n",
       "    </tr>\n",
       "    <tr>\n",
       "      <th>...</th>\n",
       "      <td>...</td>\n",
       "      <td>...</td>\n",
       "      <td>...</td>\n",
       "      <td>...</td>\n",
       "      <td>...</td>\n",
       "      <td>...</td>\n",
       "      <td>...</td>\n",
       "      <td>...</td>\n",
       "      <td>...</td>\n",
       "      <td>...</td>\n",
       "      <td>...</td>\n",
       "      <td>...</td>\n",
       "      <td>...</td>\n",
       "      <td>...</td>\n",
       "      <td>...</td>\n",
       "      <td>...</td>\n",
       "      <td>...</td>\n",
       "    </tr>\n",
       "    <tr>\n",
       "      <th>4886</th>\n",
       "      <td>5495</td>\n",
       "      <td>5881</td>\n",
       "      <td>Information Scientist</td>\n",
       "      <td>['38', '-', '64', '(Glassdoor', 'est.)']</td>\n",
       "      <td>3.2</td>\n",
       "      <td>CAS\\n3.2</td>\n",
       "      <td>Columbus, OH</td>\n",
       "      <td>1001 to 5000 Employees</td>\n",
       "      <td>1907</td>\n",
       "      <td>Subsidiary or Business Segment</td>\n",
       "      <td>Enterprise Software &amp; Network Solutions</td>\n",
       "      <td>Information Technology</td>\n",
       "      <td>$100 to $500 million (USD)</td>\n",
       "      <td>38</td>\n",
       "      <td>64</td>\n",
       "      <td>51.0</td>\n",
       "      <td>OH</td>\n",
       "    </tr>\n",
       "    <tr>\n",
       "      <th>4887</th>\n",
       "      <td>5496</td>\n",
       "      <td>5882</td>\n",
       "      <td>Supervisory Research Health Scientist</td>\n",
       "      <td>['47', '-', '89', '(Glassdoor', 'est.)']</td>\n",
       "      <td>4.2</td>\n",
       "      <td>Centers for Disease Control and Prevention\\n4.2</td>\n",
       "      <td>Cincinnati, OH</td>\n",
       "      <td>10000+ Employees</td>\n",
       "      <td>1946</td>\n",
       "      <td>Government</td>\n",
       "      <td>Federal Agencies</td>\n",
       "      <td>Government</td>\n",
       "      <td>Unknown / Non-Applicable</td>\n",
       "      <td>47</td>\n",
       "      <td>89</td>\n",
       "      <td>68.0</td>\n",
       "      <td>OH</td>\n",
       "    </tr>\n",
       "    <tr>\n",
       "      <th>4888</th>\n",
       "      <td>5497</td>\n",
       "      <td>5883</td>\n",
       "      <td>Senior SAS Programmer (Scientist)</td>\n",
       "      <td>['66', '-', '113', '(Glassdoor', 'est.)']</td>\n",
       "      <td>4.0</td>\n",
       "      <td>Certara\\n4.0</td>\n",
       "      <td>Cincinnati, OH</td>\n",
       "      <td>501 to 1000 Employees</td>\n",
       "      <td>2008</td>\n",
       "      <td>Company - Public</td>\n",
       "      <td>Biotech &amp; Pharmaceuticals</td>\n",
       "      <td>Biotech &amp; Pharmaceuticals</td>\n",
       "      <td>Unknown / Non-Applicable</td>\n",
       "      <td>66</td>\n",
       "      <td>113</td>\n",
       "      <td>89.5</td>\n",
       "      <td>OH</td>\n",
       "    </tr>\n",
       "    <tr>\n",
       "      <th>4889</th>\n",
       "      <td>5498</td>\n",
       "      <td>5886</td>\n",
       "      <td>Senior Data Analyst - Product Analytics (open ...</td>\n",
       "      <td>['67', '-', '111', '(Glassdoor', 'est.)']</td>\n",
       "      <td>4.0</td>\n",
       "      <td>New Relic\\n4.0</td>\n",
       "      <td>Cincinnati, OH</td>\n",
       "      <td>1001 to 5000 Employees</td>\n",
       "      <td>2008</td>\n",
       "      <td>Company - Public</td>\n",
       "      <td>Computer Hardware &amp; Software</td>\n",
       "      <td>Information Technology</td>\n",
       "      <td>$100 to $500 million (USD)</td>\n",
       "      <td>67</td>\n",
       "      <td>111</td>\n",
       "      <td>89.0</td>\n",
       "      <td>OH</td>\n",
       "    </tr>\n",
       "    <tr>\n",
       "      <th>4890</th>\n",
       "      <td>5499</td>\n",
       "      <td>5887</td>\n",
       "      <td>Manufacturing Data Analyst Engineer</td>\n",
       "      <td>['42', '-', '76', '(Glassdoor', 'est.)']</td>\n",
       "      <td>3.6</td>\n",
       "      <td>Hose Master\\n3.6</td>\n",
       "      <td>Euclid, OH</td>\n",
       "      <td>201 to 500 Employees</td>\n",
       "      <td>1982</td>\n",
       "      <td>Company - Private</td>\n",
       "      <td>Electrical &amp; Electronic Manufacturing</td>\n",
       "      <td>Manufacturing</td>\n",
       "      <td>Unknown / Non-Applicable</td>\n",
       "      <td>42</td>\n",
       "      <td>76</td>\n",
       "      <td>59.0</td>\n",
       "      <td>OH</td>\n",
       "    </tr>\n",
       "  </tbody>\n",
       "</table>\n",
       "<p>4891 rows × 17 columns</p>\n",
       "</div>"
      ],
      "text/plain": [
       "      Unnamed: 0.1  Unnamed: 0  \\\n",
       "0                0           0   \n",
       "1                1           1   \n",
       "2                3           3   \n",
       "3                4           4   \n",
       "4                5           5   \n",
       "...            ...         ...   \n",
       "4886          5495        5881   \n",
       "4887          5496        5882   \n",
       "4888          5497        5883   \n",
       "4889          5498        5886   \n",
       "4890          5499        5887   \n",
       "\n",
       "                                              Job Title  \\\n",
       "0                                 Senior Data Scientist   \n",
       "1                     Data Scientist, Product Analytics   \n",
       "2                                          Data Analyst   \n",
       "3                                Director, Data Science   \n",
       "4                                        Data Scientist   \n",
       "...                                                 ...   \n",
       "4886                              Information Scientist   \n",
       "4887              Supervisory Research Health Scientist   \n",
       "4888                  Senior SAS Programmer (Scientist)   \n",
       "4889  Senior Data Analyst - Product Analytics (open ...   \n",
       "4890                Manufacturing Data Analyst Engineer   \n",
       "\n",
       "                                 Salary Estimate  Rating  \\\n",
       "0     ['111', '-', '181', '(Glassdoor', 'est.)']     3.5   \n",
       "1     ['111', '-', '181', '(Glassdoor', 'est.)']     4.5   \n",
       "2     ['111', '-', '181', '(Glassdoor', 'est.)']     3.4   \n",
       "3     ['111', '-', '181', '(Glassdoor', 'est.)']     3.4   \n",
       "4     ['111', '-', '181', '(Glassdoor', 'est.)']     2.9   \n",
       "...                                          ...     ...   \n",
       "4886    ['38', '-', '64', '(Glassdoor', 'est.)']     3.2   \n",
       "4887    ['47', '-', '89', '(Glassdoor', 'est.)']     4.2   \n",
       "4888   ['66', '-', '113', '(Glassdoor', 'est.)']     4.0   \n",
       "4889   ['67', '-', '111', '(Glassdoor', 'est.)']     4.0   \n",
       "4890    ['42', '-', '76', '(Glassdoor', 'est.)']     3.6   \n",
       "\n",
       "                                         Company Name        Location  \\\n",
       "0                                         Hopper\\n3.5    New York, NY   \n",
       "1                                        Noom US\\n4.5    New York, NY   \n",
       "2                               Sapphire Digital\\n3.4   Lyndhurst, NJ   \n",
       "3                     United Entertainment Group\\n3.4    New York, NY   \n",
       "4                                  IFG Companies\\n2.9    New York, NY   \n",
       "...                                               ...             ...   \n",
       "4886                                         CAS\\n3.2    Columbus, OH   \n",
       "4887  Centers for Disease Control and Prevention\\n4.2  Cincinnati, OH   \n",
       "4888                                     Certara\\n4.0  Cincinnati, OH   \n",
       "4889                                   New Relic\\n4.0  Cincinnati, OH   \n",
       "4890                                 Hose Master\\n3.6      Euclid, OH   \n",
       "\n",
       "                        Size  Founded               Type of ownership  \\\n",
       "0      501 to 1000 employees     2007               Company - Private   \n",
       "1     1001 to 5000 employees     2008               Company - Private   \n",
       "2       201 to 500 employees     2019               Company - Private   \n",
       "3        51 to 200 employees     2007               Company - Private   \n",
       "4       201 to 500 employees     1985               Company - Private   \n",
       "...                      ...      ...                             ...   \n",
       "4886  1001 to 5000 Employees     1907  Subsidiary or Business Segment   \n",
       "4887        10000+ Employees     1946                      Government   \n",
       "4888   501 to 1000 Employees     2008                Company - Public   \n",
       "4889  1001 to 5000 Employees     2008                Company - Public   \n",
       "4890    201 to 500 Employees     1982               Company - Private   \n",
       "\n",
       "                                     Industry                     Sector  \\\n",
       "0                             Travel Agencies           Travel & Tourism   \n",
       "1                   Health, Beauty, & Fitness          Consumer Services   \n",
       "2                                    Internet     Information Technology   \n",
       "3                     Advertising & Marketing          Business Services   \n",
       "4                          Insurance Carriers                  Insurance   \n",
       "...                                       ...                        ...   \n",
       "4886  Enterprise Software & Network Solutions     Information Technology   \n",
       "4887                         Federal Agencies                 Government   \n",
       "4888                Biotech & Pharmaceuticals  Biotech & Pharmaceuticals   \n",
       "4889             Computer Hardware & Software     Information Technology   \n",
       "4890    Electrical & Electronic Manufacturing              Manufacturing   \n",
       "\n",
       "                         Revenue  Min_salary  Max_salary  Average_salary State  \n",
       "0       Unknown / Non-Applicable         111         181           146.0    NY  \n",
       "1       Unknown / Non-Applicable         111         181           146.0    NY  \n",
       "2       Unknown / Non-Applicable         111         181           146.0    NJ  \n",
       "3       Unknown / Non-Applicable         111         181           146.0    NY  \n",
       "4       Unknown / Non-Applicable         111         181           146.0    NY  \n",
       "...                          ...         ...         ...             ...   ...  \n",
       "4886  $100 to $500 million (USD)          38          64            51.0    OH  \n",
       "4887    Unknown / Non-Applicable          47          89            68.0    OH  \n",
       "4888    Unknown / Non-Applicable          66         113            89.5    OH  \n",
       "4889  $100 to $500 million (USD)          67         111            89.0    OH  \n",
       "4890    Unknown / Non-Applicable          42          76            59.0    OH  \n",
       "\n",
       "[4891 rows x 17 columns]"
      ]
     },
     "execution_count": 4,
     "metadata": {},
     "output_type": "execute_result"
    }
   ],
   "source": [
    "df"
   ]
  },
  {
   "cell_type": "code",
   "execution_count": 6,
   "id": "d534f771",
   "metadata": {},
   "outputs": [],
   "source": [
    "#Organizing Job Title Column\n",
    "def title_organizer(x):\n",
    "    x = x.lower()\n",
    "    if ('data scientist' in x) or ('data science' in x) :\n",
    "        return 'data scientist'\n",
    "    elif 'data engineer' in x:\n",
    "        return 'data engineer'\n",
    "    elif 'deep learning' in x:\n",
    "        return 'deep learning engineer'\n",
    "    elif 'machine learning' in x:\n",
    "        return 'machine learning engineer'\n",
    "    elif 'director' in x:\n",
    "        return 'director'\n",
    "    elif 'manager' in x:\n",
    "        return 'manager'\n",
    "    elif 'analyst' in x:\n",
    "        return 'analyst'\n",
    "    elif 'researcher' in x:\n",
    "        return 'researcher'\n",
    "    else:\n",
    "        return 'other'\n",
    "    "
   ]
  },
  {
   "cell_type": "code",
   "execution_count": 8,
   "id": "1aa17e4f",
   "metadata": {},
   "outputs": [],
   "source": [
    "df['Job Title'] = df['Job Title'].apply(title_organizer)"
   ]
  },
  {
   "cell_type": "code",
   "execution_count": 14,
   "id": "e9082ccf",
   "metadata": {},
   "outputs": [
    {
     "data": {
      "text/html": [
       "<div>\n",
       "<style scoped>\n",
       "    .dataframe tbody tr th:only-of-type {\n",
       "        vertical-align: middle;\n",
       "    }\n",
       "\n",
       "    .dataframe tbody tr th {\n",
       "        vertical-align: top;\n",
       "    }\n",
       "\n",
       "    .dataframe thead th {\n",
       "        text-align: right;\n",
       "    }\n",
       "</style>\n",
       "<table border=\"1\" class=\"dataframe\">\n",
       "  <thead>\n",
       "    <tr style=\"text-align: right;\">\n",
       "      <th></th>\n",
       "      <th>Job Title</th>\n",
       "      <th>Rating</th>\n",
       "      <th>Average_salary</th>\n",
       "      <th>State</th>\n",
       "    </tr>\n",
       "  </thead>\n",
       "  <tbody>\n",
       "    <tr>\n",
       "      <th>0</th>\n",
       "      <td>data scientist</td>\n",
       "      <td>3.5</td>\n",
       "      <td>146.0</td>\n",
       "      <td>NY</td>\n",
       "    </tr>\n",
       "    <tr>\n",
       "      <th>1</th>\n",
       "      <td>data scientist</td>\n",
       "      <td>4.5</td>\n",
       "      <td>146.0</td>\n",
       "      <td>NY</td>\n",
       "    </tr>\n",
       "    <tr>\n",
       "      <th>2</th>\n",
       "      <td>analyst</td>\n",
       "      <td>3.4</td>\n",
       "      <td>146.0</td>\n",
       "      <td>NJ</td>\n",
       "    </tr>\n",
       "    <tr>\n",
       "      <th>3</th>\n",
       "      <td>data scientist</td>\n",
       "      <td>3.4</td>\n",
       "      <td>146.0</td>\n",
       "      <td>NY</td>\n",
       "    </tr>\n",
       "    <tr>\n",
       "      <th>4</th>\n",
       "      <td>data scientist</td>\n",
       "      <td>2.9</td>\n",
       "      <td>146.0</td>\n",
       "      <td>NY</td>\n",
       "    </tr>\n",
       "    <tr>\n",
       "      <th>...</th>\n",
       "      <td>...</td>\n",
       "      <td>...</td>\n",
       "      <td>...</td>\n",
       "      <td>...</td>\n",
       "    </tr>\n",
       "    <tr>\n",
       "      <th>4886</th>\n",
       "      <td>other</td>\n",
       "      <td>3.2</td>\n",
       "      <td>51.0</td>\n",
       "      <td>OH</td>\n",
       "    </tr>\n",
       "    <tr>\n",
       "      <th>4887</th>\n",
       "      <td>other</td>\n",
       "      <td>4.2</td>\n",
       "      <td>68.0</td>\n",
       "      <td>OH</td>\n",
       "    </tr>\n",
       "    <tr>\n",
       "      <th>4888</th>\n",
       "      <td>other</td>\n",
       "      <td>4.0</td>\n",
       "      <td>89.5</td>\n",
       "      <td>OH</td>\n",
       "    </tr>\n",
       "    <tr>\n",
       "      <th>4889</th>\n",
       "      <td>analyst</td>\n",
       "      <td>4.0</td>\n",
       "      <td>89.0</td>\n",
       "      <td>OH</td>\n",
       "    </tr>\n",
       "    <tr>\n",
       "      <th>4890</th>\n",
       "      <td>analyst</td>\n",
       "      <td>3.6</td>\n",
       "      <td>59.0</td>\n",
       "      <td>OH</td>\n",
       "    </tr>\n",
       "  </tbody>\n",
       "</table>\n",
       "<p>4891 rows × 4 columns</p>\n",
       "</div>"
      ],
      "text/plain": [
       "           Job Title  Rating  Average_salary State\n",
       "0     data scientist     3.5           146.0    NY\n",
       "1     data scientist     4.5           146.0    NY\n",
       "2            analyst     3.4           146.0    NJ\n",
       "3     data scientist     3.4           146.0    NY\n",
       "4     data scientist     2.9           146.0    NY\n",
       "...              ...     ...             ...   ...\n",
       "4886           other     3.2            51.0    OH\n",
       "4887           other     4.2            68.0    OH\n",
       "4888           other     4.0            89.5    OH\n",
       "4889         analyst     4.0            89.0    OH\n",
       "4890         analyst     3.6            59.0    OH\n",
       "\n",
       "[4891 rows x 4 columns]"
      ]
     },
     "execution_count": 14,
     "metadata": {},
     "output_type": "execute_result"
    }
   ],
   "source": [
    "df"
   ]
  },
  {
   "cell_type": "code",
   "execution_count": 17,
   "id": "095e5050",
   "metadata": {},
   "outputs": [
    {
     "data": {
      "text/plain": [
       "<AxesSubplot:>"
      ]
     },
     "execution_count": 17,
     "metadata": {},
     "output_type": "execute_result"
    },
    {
     "data": {
      "image/png": "[encoded data removed]",
      "text/plain": [
       "<Figure size 432x288 with 1 Axes>"
      ]
     },
     "metadata": {
      "needs_background": "light"
     },
     "output_type": "display_data"
    }
   ],
   "source": [
    " df['Average_salary'].hist(bins=10, color='blue')"
   ]
  },
  {
   "cell_type": "code",
   "execution_count": 19,
   "id": "ed1a1e10",
   "metadata": {},
   "outputs": [
    {
     "data": {
      "text/plain": [
       "<AxesSubplot:>"
      ]
     },
     "execution_count": 19,
     "metadata": {},
     "output_type": "execute_result"
    },
    {
     "data": {
      "image/png": "[encoded data removed]",
      "text/plain": [
       "<Figure size 432x288 with 1 Axes>"
      ]
     },
     "metadata": {
      "needs_background": "light"
     },
     "output_type": "display_data"
    }
   ],
   "source": [
    " df['Rating'].hist(bins=10, color='red')"
   ]
  },
  {
   "cell_type": "code",
   "execution_count": 21,
   "id": "73ce1059",
   "metadata": {},
   "outputs": [],
   "source": [
    "import seaborn as sns"
   ]
  },
  {
   "cell_type": "code",
   "execution_count": 23,
   "id": "5ad86136",
   "metadata": {},
   "outputs": [
    {
     "data": {
      "text/plain": [
       "<seaborn.axisgrid.FacetGrid at 0x1ba936cc4f0>"
      ]
     },
     "execution_count": 23,
     "metadata": {},
     "output_type": "execute_result"
    },
    {
     "data": {
      "image/png": "[encoded data removed]",
      "text/plain": [
       "<Figure size 360x360 with 1 Axes>"
      ]
     },
     "metadata": {
      "needs_background": "light"
     },
     "output_type": "display_data"
    }
   ],
   "source": [
    "sns.displot(x='Rating', data= df, bins = 10)"
   ]
  },
  {
   "cell_type": "code",
   "execution_count": 25,
   "id": "916bca09",
   "metadata": {},
   "outputs": [],
   "source": [
    "import matplotlib.pyplot as plt\n"
   ]
  },
  {
   "cell_type": "code",
   "execution_count": 30,
   "id": "c9e26693",
   "metadata": {},
   "outputs": [
    {
     "data": {
      "text/plain": [
       "(array([0, 1, 2, 3, 4, 5, 6, 7, 8]),\n",
       " [Text(0, 0, 'data scientist'),\n",
       "  Text(1, 0, 'analyst'),\n",
       "  Text(2, 0, 'researcher'),\n",
       "  Text(3, 0, 'other'),\n",
       "  Text(4, 0, 'data engineer'),\n",
       "  Text(5, 0, 'manager'),\n",
       "  Text(6, 0, 'machine learning engineer'),\n",
       "  Text(7, 0, 'director'),\n",
       "  Text(8, 0, 'deep learning engineer')])"
      ]
     },
     "execution_count": 30,
     "metadata": {},
     "output_type": "execute_result"
    },
    {
     "data": {
      "image/png": "[encoded data removed]",
      "text/plain": [
       "<Figure size 432x288 with 1 Axes>"
      ]
     },
     "metadata": {
      "needs_background": "light"
     },
     "output_type": "display_data"
    }
   ],
   "source": [
    "sns.countplot(x='Job Title', data= df)\n",
    "plt.xticks(rotation= 80)"
   ]
  },
  {
   "cell_type": "code",
   "execution_count": 31,
   "id": "5f83fc8d",
   "metadata": {},
   "outputs": [
    {
     "data": {
      "text/plain": [
       "<AxesSubplot:xlabel='Rating'>"
      ]
     },
     "execution_count": 31,
     "metadata": {},
     "output_type": "execute_result"
    },
    {
     "data": {
      "image/png": "[encoded data removed]",
      "text/plain": [
       "<Figure size 432x288 with 1 Axes>"
      ]
     },
     "metadata": {
      "needs_background": "light"
     },
     "output_type": "display_data"
    }
   ],
   "source": [
    "sns.boxplot(x='Rating', data= df)"
   ]
  }
 ],
 "metadata": {
  "kernelspec": {
   "display_name": "Python 3 (ipykernel)",
   "language": "python",
   "name": "python3"
  },
  "language_info": {
   "codemirror_mode": {
    "name": "ipython",
    "version": 3
   },
   "file_extension": ".py",
   "mimetype": "text/x-python",
   "name": "python",
   "nbconvert_exporter": "python",
   "pygments_lexer": "ipython3",
   "version": "3.9.12"
  }
 },
 "nbformat": 4,
 "nbformat_minor": 5
}
